{
 "cells": [
  {
   "cell_type": "markdown",
   "metadata": {},
   "source": [
    "# Script to calculate either FTEs or salary to get to a specific total budget\n",
    "### Created: Oct 22, 2023\n",
    "### Last Modified: Oct 24, 2023"
   ]
  },
  {
   "cell_type": "code",
   "execution_count": 1,
   "metadata": {},
   "outputs": [],
   "source": [
    "# function to calculate number of FTEs over the course of a 4-year project,\n",
    "# assuming that the FTEs are equally distributed each year\n",
    "# - assumes inflation rate is 1.5% and compounds yearly\n",
    "def calc_FTE(budget, base_salary, project_length, benefit_rate=0.2):\n",
    "    total_salary = (base_salary * benefit_rate) + base_salary\n",
    "    project_years = range(project_length)\n",
    "    denominator = len(project_years)\n",
    "    return budget/(total_salary * (1 + 1.015 + 1.015**2 + 1.015**3))\n"
   ]
  },
  {
   "cell_type": "code",
   "execution_count": 2,
   "metadata": {},
   "outputs": [],
   "source": [
    "# function to calculate total salary for a position over the course of a \n",
    "# 4-year project given a budget for the salary and the number of FTEs,\n",
    "# (assuming FTEs are equally distributed each year)\n",
    "# - assumes inflation rate is 1.5% and compounds yearly\n",
    "def calc_total_salary(budget, FTE):\n",
    "    return budget / (FTE * (1 + 1.015 + (1.015**2) + (1.015**3)))"
   ]
  },
  {
   "cell_type": "code",
   "execution_count": 3,
   "metadata": {},
   "outputs": [],
   "source": [
    "# function to calculate base salary given total salary with a benefit\n",
    "# rate of 20%\n",
    "def calc_base_salary(total_salary):\n",
    "    benefits = total_salary/6\n",
    "    base_salary = total_salary - benefits\n",
    "    return (base_salary, benefits)"
   ]
  },
  {
   "cell_type": "code",
   "execution_count": 4,
   "metadata": {},
   "outputs": [
    {
     "name": "stdout",
     "output_type": "stream",
     "text": [
      "The number of FTEs per year is: 0.9777791126635947.\n"
     ]
    }
   ],
   "source": [
    "# now we're going to use the functions\n",
    "print(f'The number of FTEs per year is: {calc_FTE(500000, 104166.67)}.')"
   ]
  },
  {
   "cell_type": "code",
   "execution_count": 6,
   "metadata": {},
   "outputs": [
    {
     "name": "stdout",
     "output_type": "stream",
     "text": [
      "The annual base salary and the benefits are: (211852.1478563807, 42370.429571276145) respectively.\n"
     ]
    }
   ],
   "source": [
    "print(f'The annual base salary and the benefits are: {calc_base_salary(calc_total_salary(1040000, 1))} respectively.')"
   ]
  },
  {
   "cell_type": "code",
   "execution_count": 12,
   "metadata": {},
   "outputs": [
    {
     "name": "stdout",
     "output_type": "stream",
     "text": [
      "The annual base salary and the benefits are: (8750.0, 1750.0) respectively.\n"
     ]
    }
   ],
   "source": [
    "print(f'The annual base salary and the benefits are: {calc_base_salary(10500)} respectively.')"
   ]
  },
  {
   "cell_type": "code",
   "execution_count": 8,
   "metadata": {},
   "outputs": [
    {
     "name": "stdout",
     "output_type": "stream",
     "text": [
      "0\n",
      "1\n",
      "2\n",
      "3\n"
     ]
    }
   ],
   "source": [
    "for i in range(4):\n",
    "    print(i)"
   ]
  },
  {
   "cell_type": "code",
   "execution_count": 9,
   "metadata": {},
   "outputs": [
    {
     "name": "stdout",
     "output_type": "stream",
     "text": [
      "1\n"
     ]
    }
   ],
   "source": [
    "print(1**0)"
   ]
  }
 ],
 "metadata": {
  "kernelspec": {
   "display_name": "NLP",
   "language": "python",
   "name": "python3"
  },
  "language_info": {
   "codemirror_mode": {
    "name": "ipython",
    "version": 3
   },
   "file_extension": ".py",
   "mimetype": "text/x-python",
   "name": "python",
   "nbconvert_exporter": "python",
   "pygments_lexer": "ipython3",
   "version": "3.8.2"
  },
  "orig_nbformat": 4
 },
 "nbformat": 4,
 "nbformat_minor": 2
}
